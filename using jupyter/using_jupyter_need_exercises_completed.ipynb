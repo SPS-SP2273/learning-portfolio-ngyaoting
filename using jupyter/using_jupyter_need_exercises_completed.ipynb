{
 "cells": [
  {
   "cell_type": "markdown",
   "id": "c9959513-769d-428a-a73b-a17d32275a45",
   "metadata": {},
   "source": [
    "![](https://upload.wikimedia.org/wikipedia/commons/thumb/f/f8/Polynomialdeg2.svg/300px-Polynomialdeg2.svg.png)"
   ]
  },
  {
   "cell_type": "markdown",
   "id": "908e4e2c-d2c9-4388-9745-1faf4eabedb6",
   "metadata": {},
   "source": [
    "(Image from the [Wikipedia page on Quadratic equations](https://en.wikipedia.org/wiki/Quadratic_equation))"
   ]
  },
  {
   "cell_type": "markdown",
   "id": "8fe36b6c-c451-4b86-9260-67572db27bbd",
   "metadata": {},
   "source": [
    "The general form of a quadratic equation is:\n",
    "$$ ax^2 + bx + c = 0 $$\n"
   ]
  },
  {
   "cell_type": "markdown",
   "id": "29419db0-7536-4ba1-a37d-74fd979071b1",
   "metadata": {},
   "source": [
    "### **Solutions**"
   ]
  },
  {
   "cell_type": "markdown",
   "id": "b840f054-13b9-46c9-8cf2-e683f437f475",
   "metadata": {},
   "source": [
    "Provided $ a \\ne 0 $, we can use an elementary algebraic method called [completing the square](https://en.wikipedia.org/wiki/Completing_the_square) to show that a quadratic equation has the following solution: "
   ]
  },
  {
   "cell_type": "markdown",
   "id": "e2fc5bc2-7981-4523-be2c-e75eb4b52edf",
   "metadata": {},
   "source": [
    "$$x = \\frac{-b \\pm \\sqrt{b^2 - 4ac}}{2a}$$"
   ]
  },
  {
   "cell_type": "markdown",
   "id": "8b7fb970-3fdf-4a2a-8813-095a72b7a007",
   "metadata": {},
   "source": [
    "### **Discriminant**"
   ]
  },
  {
   "cell_type": "markdown",
   "id": "6fb380cd-eccf-4dbd-aa4c-11e63f6b4259",
   "metadata": {},
   "source": [
    "The quantity $ \\Delta = b^2 - 4ac $ is called the **discriminant** of the equation and decides the nature of its solutions. The table below shows the various possibilities. "
   ]
  },
  {
   "cell_type": "markdown",
   "id": "1ae02e5d-3847-4940-83d1-a0c333338b3a",
   "metadata": {},
   "source": [
    "| Discriminant                                   | Roots                                       |\n",
    "| ---------------------------------------------- | ------------------------------------------- |\n",
    "| $$\\Delta = b^2 - 4ac = 0$$                     | A single solution of $-b/2a$                |\n",
    "| $$\\Delta = b^2 - 4ac > 0$$                     | Two distinct solutions                     |\n",
    "| $$\\Delta = b^2 - 4ac < 0$$                     | No real solutions; both are complex.        |   |   |"
   ]
  },
  {
   "cell_type": "markdown",
   "id": "2b475d01-12ef-415a-a66e-e21c114fec5f",
   "metadata": {},
   "source": [
    "#### **Exercise 2**"
   ]
  },
  {
   "cell_type": "markdown",
   "id": "cce1a690-a8ae-435b-a71f-ae18a03a3e03",
   "metadata": {},
   "source": [
    "1. What is a Git **repository**?\n",
    "   - A Git repository is a central storage location for managing and tracking changes in files and directories.\n",
    "2. Git keeps tracks of **changes** in the files in our repository.\n",
    "3. What is a **commit**?\n",
    "   - A commit allows you to save the changes to your cloned repository\n",
    "4. What is a **push**?\n",
    "   - A push shares changes to the remote repository where it can be viewed by other developers\n",
    "5. What is a **pull**?\n",
    "   - A pull is used to fetch and download content from a remote repository and immediately update the local repository to match that content. \n",
    "6. What is the difference between GitHub and GitHub Desktop?\n",
    "    - Git is a version control system that helps you manage your code and keep track of it, and GitHub is a cloud-based hosting platform that enables developers to manage their Git repositories. GitHub Desktop is an application that lets users interact better with GitHub through a GUI."
   ]
  },
  {
   "cell_type": "code",
   "execution_count": null,
   "id": "1569c3ac-5335-44aa-9935-b3efb3f33c1a",
   "metadata": {},
   "outputs": [],
   "source": []
  }
 ],
 "metadata": {
  "kernelspec": {
   "display_name": "Python 3 (ipykernel)",
   "language": "python",
   "name": "python3"
  },
  "language_info": {
   "codemirror_mode": {
    "name": "ipython",
    "version": 3
   },
   "file_extension": ".py",
   "mimetype": "text/x-python",
   "name": "python",
   "nbconvert_exporter": "python",
   "pygments_lexer": "ipython3",
   "version": "3.11.5"
  },
  "toc": {
   "base_numbering": 1,
   "nav_menu": {},
   "number_sections": true,
   "sideBar": true,
   "skip_h1_title": false,
   "title_cell": "Table of Contents",
   "title_sidebar": "Contents",
   "toc_cell": false,
   "toc_position": {},
   "toc_section_display": true,
   "toc_window_display": false
  },
  "varInspector": {
   "cols": {
    "lenName": 16,
    "lenType": 16,
    "lenVar": 40
   },
   "kernels_config": {
    "python": {
     "delete_cmd_postfix": "",
     "delete_cmd_prefix": "del ",
     "library": "var_list.py",
     "varRefreshCmd": "print(var_dic_list())"
    },
    "r": {
     "delete_cmd_postfix": ") ",
     "delete_cmd_prefix": "rm(",
     "library": "var_list.r",
     "varRefreshCmd": "cat(var_dic_list()) "
    }
   },
   "types_to_exclude": [
    "module",
    "function",
    "builtin_function_or_method",
    "instance",
    "_Feature"
   ],
   "window_display": false
  },
  "widgets": {
   "application/vnd.jupyter.widget-state+json": {
    "state": {},
    "version_major": 2,
    "version_minor": 0
   }
  }
 },
 "nbformat": 4,
 "nbformat_minor": 5
}
