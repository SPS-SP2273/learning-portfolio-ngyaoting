{
 "cells": [
  {
   "cell_type": "markdown",
   "id": "123456",
   "metadata": {},
   "source": [
    "<div style=\"text-align:left;font-size:2em\"><span style=\"font-weight:bolder;font-size:1.25em\">SP2273 | Learning Portfolio</span><br><br><span style=\"font-weight:bold;color:darkred\">Using Jupyter (Good)</span></div>"
   ]
  },
  {
   "cell_type": "markdown",
   "id": "c38a4a94",
   "metadata": {},
   "source": [
    "**Shell commands**"
   ]
  },
  {
   "cell_type": "markdown",
   "id": "941f4d2d",
   "metadata": {},
   "source": [
    "This command prints the current working directory"
   ]
  },
  {
   "cell_type": "code",
   "execution_count": 1,
   "id": "d8ac3ddc",
   "metadata": {},
   "outputs": [
    {
     "name": "stdout",
     "output_type": "stream",
     "text": [
      "C:\\Users\\User\\OneDrive\\Documents\\NUS\\Y1\\Sem2\\SP2273\\learning-portfolio-ngyaoting\\using jupyter\n"
     ]
    }
   ],
   "source": [
    "!cd\n",
    " "
   ]
  },
  {
   "cell_type": "markdown",
   "id": "09050b69",
   "metadata": {},
   "source": [
    "This command prints a list of all files in the folder"
   ]
  },
  {
   "cell_type": "code",
   "execution_count": 2,
   "id": "1f8b0bf2",
   "metadata": {},
   "outputs": [
    {
     "name": "stdout",
     "output_type": "stream",
     "text": [
      " Volume in drive C has no label.\n",
      " Volume Serial Number is 6E0A-2BE7\n",
      "\n",
      " Directory of C:\\Users\\User\\OneDrive\\Documents\\NUS\\Y1\\Sem2\\SP2273\\learning-portfolio-ngyaoting\\using jupyter\n",
      "\n",
      "02/07/2024  06:56 PM    <DIR>          .\n",
      "01/24/2024  08:37 AM    <DIR>          ..\n",
      "01/23/2024  04:16 PM    <DIR>          .ipynb_checkpoints\n",
      "01/07/2024  12:04 AM           439,396 Screenshot 2024-01-07 000416.png\n",
      "01/19/2024  04:34 PM             2,050 Untitled1.ipynb\n",
      "02/07/2024  06:56 PM             2,576 using_jupyter_(good).ipynb\n",
      "01/23/2024  04:11 PM             3,007 using_jupyter_need.ipynb\n",
      "               4 File(s)        447,029 bytes\n",
      "               3 Dir(s)  284,852,518,912 bytes free\n"
     ]
    }
   ],
   "source": [
    "!dir"
   ]
  },
  {
   "cell_type": "markdown",
   "id": "dea1a94f",
   "metadata": {},
   "source": [
    "**Shell magic commands**"
   ]
  },
  {
   "cell_type": "markdown",
   "id": "66e45ef4",
   "metadata": {},
   "source": [
    "This command provides stats on how long the command takes to execute"
   ]
  },
  {
   "cell_type": "code",
   "execution_count": 3,
   "id": "9e71e591",
   "metadata": {},
   "outputs": [
    {
     "name": "stdout",
     "output_type": "stream",
     "text": [
      "28.7 ns ± 1.76 ns per loop (mean ± std. dev. of 7 runs, 10,000,000 loops each)\n"
     ]
    }
   ],
   "source": [
    "%timeit x=10\n"
   ]
  },
  {
   "cell_type": "markdown",
   "id": "363d4ad5",
   "metadata": {},
   "source": [
    "**The Kernel**\n"
   ]
  },
  {
   "cell_type": "markdown",
   "id": "99975241",
   "metadata": {},
   "source": [
    "- All the behind-the-scenes work of running a Jupyter Notebook is done by a sub-routine called the Kernel\n",
    "- Interrupt, restart or shut down the kernel in the toolbar. Do this if something screws up."
   ]
  },
  {
   "cell_type": "code",
   "execution_count": null,
   "id": "074445ed",
   "metadata": {},
   "outputs": [],
   "source": []
  }
 ],
 "metadata": {
  "kernelspec": {
   "display_name": "Python 3 (ipykernel)",
   "language": "python",
   "name": "python3"
  },
  "language_info": {
   "codemirror_mode": {
    "name": "ipython",
    "version": 3
   },
   "file_extension": ".py",
   "mimetype": "text/x-python",
   "name": "python",
   "nbconvert_exporter": "python",
   "pygments_lexer": "ipython3",
   "version": "3.11.5"
  },
  "toc": {
   "base_numbering": 1,
   "nav_menu": {},
   "number_sections": true,
   "sideBar": true,
   "skip_h1_title": false,
   "title_cell": "Table of Contents",
   "title_sidebar": "Contents",
   "toc_cell": false,
   "toc_position": {},
   "toc_section_display": true,
   "toc_window_display": false
  },
  "varInspector": {
   "cols": {
    "lenName": 16,
    "lenType": 16,
    "lenVar": 40
   },
   "kernels_config": {
    "python": {
     "delete_cmd_postfix": "",
     "delete_cmd_prefix": "del ",
     "library": "var_list.py",
     "varRefreshCmd": "print(var_dic_list())"
    },
    "r": {
     "delete_cmd_postfix": ") ",
     "delete_cmd_prefix": "rm(",
     "library": "var_list.r",
     "varRefreshCmd": "cat(var_dic_list()) "
    }
   },
   "types_to_exclude": [
    "module",
    "function",
    "builtin_function_or_method",
    "instance",
    "_Feature"
   ],
   "window_display": false
  },
  "vscode": {
   "interpreter": {
    "hash": "31f2aee4e71d21fbe5cf8b01ff0e069b9275f58929596ceb00d14d90e3e16cd6"
   }
  }
 },
 "nbformat": 4,
 "nbformat_minor": 5
}
