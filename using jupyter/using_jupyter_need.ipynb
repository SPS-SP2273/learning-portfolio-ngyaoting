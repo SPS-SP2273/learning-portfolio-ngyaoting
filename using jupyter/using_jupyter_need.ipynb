{
 "cells": [
  {
   "cell_type": "markdown",
   "id": "d3dfeba7-33ec-42e0-bc36-d96ca6fa74d8",
   "metadata": {},
   "source": [
    "**A traditional start**"
   ]
  },
  {
   "cell_type": "code",
   "execution_count": 2,
   "id": "6c85982e-fc19-41f2-8611-c5e0d635f339",
   "metadata": {},
   "outputs": [
    {
     "name": "stdout",
     "output_type": "stream",
     "text": [
      "Hello world!\n"
     ]
    }
   ],
   "source": [
    "print(\"Hello world!\")"
   ]
  },
  {
   "cell_type": "markdown",
   "id": "69c3ed76-18ba-4827-995a-d67402773fe1",
   "metadata": {},
   "source": [
    "**All about Markdown**"
   ]
  },
  {
   "cell_type": "markdown",
   "id": "c783fdde-d8ec-4d08-a0b5-3ecc299551c0",
   "metadata": {},
   "source": [
    "The ships *hung in the sky* in much the same way that **bricks don’t.**<sup>1</sup><sub>QUOTE</sub>"
   ]
  },
  {
   "cell_type": "markdown",
   "id": "a5b5a7ed-9cf4-45bd-bd38-d073e75dc50c",
   "metadata": {},
   "source": [
    "The table shows some basic Markdown syntax to modify how some text is rendered."
   ]
  },
  {
   "cell_type": "markdown",
   "id": "e2b6cdf6-cdec-464c-a8db-3605c41ce3f1",
   "metadata": {},
   "source": [
    "<table class=\"table\">\n",
    "<thead>\n",
    "<tr class=\"header\">\n",
    "<th style=\"text-align: left;\">Style</th>\n",
    "<th style=\"text-align: center;\">Syntax</th>\n",
    "</tr>\n",
    "</thead>\n",
    "<tbody>\n",
    "<tr class=\"odd\">\n",
    "<td style=\"text-align: left;\">Bold</td>\n",
    "<td style=\"text-align: center;\"><code>** **</code> or <code>__ __</code></td>\n",
    "</tr>\n",
    "<tr class=\"even\">\n",
    "<td style=\"text-align: left;\">Italic</td>\n",
    "<td style=\"text-align: center;\"><code>* *</code> or <code>_ _</code></td>\n",
    "</tr>\n",
    "<tr class=\"odd\">\n",
    "<td style=\"text-align: left;\">All bold and italic</td>\n",
    "<td style=\"text-align: center;\"><code>*** ***</code></td>\n",
    "</tr>\n",
    "<tr class=\"even\">\n",
    "<td style=\"text-align: left;\">Subscript</td>\n",
    "<td style=\"text-align: center;\"><code>&lt;sub&gt; &lt;/sub&gt;</code></td>\n",
    "</tr>\n",
    "<tr class=\"odd\">\n",
    "<td style=\"text-align: left;\">Superscript</td>\n",
    "<td style=\"text-align: center;\"><code>&lt;sup&gt; &lt;/sup&gt;</code></td>\n",
    "</tr>\n",
    "</tbody>\n",
    "</table>"
   ]
  },
  {
   "cell_type": "markdown",
   "id": "908acaa4-2c50-4f71-b386-42b5571889e9",
   "metadata": {},
   "source": [
    "**Headings**"
   ]
  },
  {
   "cell_type": "markdown",
   "id": "5c695e0b-265e-4c0d-a46f-6dc1280cd6fc",
   "metadata": {},
   "source": [
    "# The largest heading"
   ]
  },
  {
   "cell_type": "markdown",
   "id": "cfd83b55-c262-488d-a0a9-57388f081d33",
   "metadata": {},
   "source": [
    "## The second-largest heading"
   ]
  },
  {
   "cell_type": "markdown",
   "id": "f903950d-7719-45f9-b67c-e0ca03d91df1",
   "metadata": {},
   "source": [
    "### The third-largest heading"
   ]
  },
  {
   "cell_type": "markdown",
   "id": "234ae06a-94f9-44a9-b45d-171ffbc86ad8",
   "metadata": {},
   "source": [
    "#### The smallest heading"
   ]
  },
  {
   "cell_type": "markdown",
   "id": "8c928fda-c405-4596-a28a-7738a52792cf",
   "metadata": {},
   "source": [
    "**Displaying Code**"
   ]
  },
  {
   "cell_type": "markdown",
   "id": "4760fd1b-85d6-46cd-b558-e4355fac81f7",
   "metadata": {},
   "source": [
    "If you want to mention code inline, you can enclose it between two backticks, like this: `print(\"Hello world\")`"
   ]
  },
  {
   "cell_type": "markdown",
   "id": "8b377d17-3d4b-432b-abfd-eec571e37fbd",
   "metadata": {},
   "source": [
    "You can also have a block of code by using the following syntax."
   ]
  },
  {
   "cell_type": "markdown",
   "id": "b00f6665-63bb-43a9-8a7e-94db988ee731",
   "metadata": {},
   "source": [
    "```python\n",
    "print('Hello World!')\n",
    "```"
   ]
  },
  {
   "cell_type": "markdown",
   "id": "f8123a25-e6ec-4b64-9aa8-32e245f4365c",
   "metadata": {},
   "source": [
    "**Links**"
   ]
  },
  {
   "attachments": {},
   "cell_type": "markdown",
   "id": "8de3fde0-710e-45b7-822d-db1d75ebf7a8",
   "metadata": {},
   "source": [
    " [SP2273 Website](https://sps.nus.edu.sg/sp2273)"
   ]
  },
  {
   "cell_type": "markdown",
   "id": "aeedb162-6e70-4efc-ac6d-a3188d4708ef",
   "metadata": {},
   "source": [
    "**Images**"
   ]
  },
  {
   "cell_type": "markdown",
   "id": "ac9d9e71-3014-48cd-b1be-02cfba6b82b9",
   "metadata": {},
   "source": [
    "![](https://nus.edu.sg/images/default-source/base/logo.png)"
   ]
  },
  {
   "cell_type": "markdown",
   "id": "6a0d65cd-af20-4609-a5bf-6ff5828ec3ce",
   "metadata": {},
   "source": [
    "**Tables**"
   ]
  },
  {
   "cell_type": "markdown",
   "id": "50ffe488-c530-4981-9fa8-8e66a8eb7a3f",
   "metadata": {},
   "source": [
    "<h2 data-number=\"3.7\" class=\"anchored\" data-anchor-id=\"tables\"><span class=\"header-section-number\">3.7</span> Tables</h2>\r\n",
    "<p>Markdown following syntax to create tables:</p>\r\n",
    "<pre><code>| A    |  B   |    C |\r\n",
    "| :--- | :--: | ---: |\r\n",
    "| a1   |  b1  |   c1 |\r\n",
    "| a2   |  b2  |   c2 |\r\n",
    "| a3   |  b3  |   c3 |</code></pre>\r\n",
    "<p>Which will be rendered as:</p>\r\n",
    "<div class=\"my-table-300\">\r\n",
    "<table class=\"table\">\r\n",
    "<thead>\r\n",
    "<tr class=\"header\">\r\n",
    "<th style=\"text-align: left;\">A</th>\r\n",
    "<th style=\"text-align: center;\">B</th>\r\n",
    "<th style=\"text-align: right;\">C</th>\r\n",
    "</tr>\r\n",
    "</thead>\r\n",
    "<tbody>\r\n",
    "<tr class=\"odd\">\r\n",
    "<td style=\"text-align: left;\">a1</td>\r\n",
    "<td style=\"text-align: center;\">b1</td>\r\n",
    "<td style=\"text-align: right;\">c1</td>\r\n",
    "</tr>\r\n",
    "<tr class=\"even\">\r\n",
    "<td style=\"text-align: left;\">a2</td>\r\n",
    "<td style=\"text-align: center;\">b2</td>\r\n",
    "<td style=\"text-align: right;\">c2</td>\r\n",
    "</tr>\r\n",
    "<tr class=\"odd\">\r\n",
    "<td style=\"text-align: left;\">a3</td>\r\n",
    "<td style=\"text-align: center;\">b3</td>\r\n",
    "<td style=\"text-align: right;\">c3</td>\r\n",
    "</tr>\r\n",
    "</tbody>\r\n",
    "</table>\r\n",
    "</div>"
   ]
  },
  {
   "cell_type": "markdown",
   "id": "3ce88118-3f02-4ebe-89c1-2ae7d4293399",
   "metadata": {},
   "source": [
    "**Lists**"
   ]
  },
  {
   "cell_type": "markdown",
   "id": "3015a204-4bc4-494d-8270-116123a71472",
   "metadata": {},
   "source": [
    "Favorite fruits:\n",
    "1. Apple\n",
    "2. Banana\n",
    "3. Pear\n",
    "   - juicy\n",
    "   - tasty\n",
    "   - pear\n",
    "   - green"
   ]
  },
  {
   "cell_type": "markdown",
   "id": "eae305f6-e220-4821-bd04-bec780560854",
   "metadata": {},
   "source": [
    "**Equations**"
   ]
  },
  {
   "cell_type": "markdown",
   "id": "5525fd9c-82a2-473c-872c-a7ac54c57052",
   "metadata": {},
   "source": [
    "<section id=\"equations\" class=\"level2\" data-number=\"3.9\">\r\n",
    "<h2 data-number=\"3.9\" class=\"anchored\" data-anchor-id=\"equations\"><span class=\"header-section-number\">3.9</span> Equations</h2>\r\n",
    "<p>Markdown can produce phenomenal math equations<a href=\"#fn4\" class=\"footnote-ref\" id=\"fnref4\" role=\"doc-noteref\"><sup>4</sup></a>.</p>\r\n",
    "<ul>\r\n",
    "<li><p>If you want to have inline math use two $ signs like <code>$\\sqrt{b^2-4ac}$</code>, which will be rendered as <span class=\"math inline\">\\(\\sqrt{b^2-4ac}\\)</span>.</p></li>\r\n",
    "<li><p>If you want a math block, you can use the following:</p>\r\n",
    "<pre><code>$$\r\n",
    "x = \\dfrac{-b \\pm \\sqrt{b^2-4ac}}{2a}\r\n",
    "$$</code></pre>\r\n",
    "<p>Which will be rendered as:</p></li>\r\n",
    "</ul>\r\n",
    "<p><span class=\"math display\">\\[\r\n",
    "x = \\dfrac{-b \\pm \\sqrt{b^2-4ac}}{2a}\r\n",
    "\\]</span></p>\r\n",
    "<p>Here are some helpful math commands that you can use. For more details, refer to the <a href=\"https://www.overleaf.com/learn/latex/Mathematical_expressions\">mathematical documentation at Overleaf</a>.</p>\r\n",
    "\r\n",
    "<table class=\"table\">\r\n",
    "<colgroup>\r\n",
    "<col style=\"width: 23%\">\r\n",
    "<col style=\"width: 40%\">\r\n",
    "<col style=\"width: 36%\">\r\n",
    "</colgroup>\r\n",
    "<thead>\r\n",
    "<tr class=\"header\">\r\n",
    "<th></th>\r\n",
    "<th style=\"text-align: left;\">Input</th>\r\n",
    "<th style=\"text-align: center;\">Rendered</th>\r\n",
    "</tr>\r\n",
    "</thead>\r\n",
    "<tbody>\r\n",
    "<tr class=\"odd\">\r\n",
    "<td>Fraction</td>\r\n",
    "<td style=\"text-align: left;\"><code>$\\dfrac{y}{x}$</code></td>\r\n",
    "<td style=\"text-align: center;\"><span class=\"math inline\">\\(\\dfrac{y}{x}\\)</span></td>\r\n",
    "</tr>\r\n",
    "<tr class=\"even\">\r\n",
    "<td>Subscript</td>\r\n",
    "<td style=\"text-align: left;\"><code>$x_{a}$</code></td>\r\n",
    "<td style=\"text-align: center;\"><span class=\"math inline\">\\(x_{a}\\)</span></td>\r\n",
    "</tr>\r\n",
    "<tr class=\"odd\">\r\n",
    "<td>Power</td>\r\n",
    "<td style=\"text-align: left;\"><code>$x^{(y+z)}$</code></td>\r\n",
    "<td style=\"text-align: center;\"><span class=\"math inline\">\\(x^{(y+z)}\\)</span></td>\r\n",
    "</tr>\r\n",
    "<tr class=\"even\">\r\n",
    "<td>Squareroot</td>\r\n",
    "<td style=\"text-align: left;\"><code>$\\sqrt{a+b+c}$</code></td>\r\n",
    "<td style=\"text-align: center;\"><span class=\"math inline\">\\(\\sqrt{a+b+c}\\)</span></td>\r\n",
    "</tr>\r\n",
    "<tr class=\"odd\">\r\n",
    "<td>Sum</td>\r\n",
    "<td style=\"text-align: left;\"><code>$\\sum_{n=1}^{n=\\infty} x_n$</code></td>\r\n",
    "<td style=\"text-align: center;\"><span class=\"math inline\">\\(\\sum_{n=1}^{n=\\infty} x_n\\)</span></td>\r\n",
    "</tr>\r\n",
    "<tr class=\"even\">\r\n",
    "<td>Integral</td>\r\n",
    "<td style=\"text-align: left;\"><code>$\\int_{x=1}^{x=\\infty} f(x)dx$</code></td>\r\n",
    "<td style=\"text-align: center;\"><span class=\"math inline\">\\(\\int_{x=1}^{x=\\infty} f(x)dx\\)</span></td>\r\n",
    "</tr>\r\n",
    "<tr class=\"odd\">\r\n",
    "<td>Not equal</td>\r\n",
    "<td style=\"text-align: left;\"><code>a \\ne b</code></td>\r\n",
    "<td style=\"text-align: center;\"><span class=\"math inline\">\\(a \\ne b\\)</span></td>\r\n",
    "</tr>\r\n",
    "<tr class=\"even\">\r\n",
    "<td>Less than</td>\r\n",
    "<td style=\"text-align: left;\"><code>$a \\lt b$</code></td>\r\n",
    "<td style=\"text-align: center;\"><span class=\"math inline\">\\(a \\lt b\\)</span></td>\r\n",
    "</tr>\r\n",
    "<tr class=\"odd\">\r\n",
    "<td>Less than or equal to</td>\r\n",
    "<td style=\"text-align: left;\"><code>$a \\leq b$</code></td>\r\n",
    "<td style=\"text-align: center;\"><span class=\"math inline\">\\(a \\leq b\\)</span></td>\r\n",
    "</tr>\r\n",
    "<tr class=\"even\">\r\n",
    "<td>Greater than</td>\r\n",
    "<td style=\"text-align: left;\"><code>$a \\gt b$</code></td>\r\n",
    "<td style=\"text-align: center;\"><span class=\"math inline\">\\(a \\gt b\\)</span></td>\r\n",
    "</tr>\r\n",
    "<tr class=\"odd\">\r\n",
    "<td>Greater than or equal to</td>\r\n",
    "<td style=\"text-align: left;\"><code>$a \\geq b$</code></td>\r\n",
    "<td style=\"text-align: center;\"><span class=\"math inline\">\\(a \\geq b\\)</span></td>\r\n",
    "</tr>\r\n",
    "<tr class=\"even\">\r\n",
    "<td>Greek letters</td>\r\n",
    "<td style=\"text-align: left;\"><code>$\\alpha, \\beta, \\gamma, \\pi, \\lambda$</code></td>\r\n",
    "<td style=\"text-align: center;\"><span class=\"math inline\">\\(\\alpha, \\beta, \\gamma, \\pi, \\lambda\\)</span></td>\r\n",
    "</tr>\r\n",
    "</tbody>\r\n",
    "</table>\r\n",
    "\r\n",
    "</section>\r\n",
    "a, \\beta, \\gamma, \\pi, \\lambda\\)</span></td>\r\n",
    "</tr>\r\n",
    "</tbody>\r\n",
    "</table>\r\n",
    "</div>\r\n",
    "\r\n",
    "\r\n",
    "</section>"
   ]
  },
  {
   "cell_type": "code",
   "execution_count": null,
   "id": "afdf09bd-d97f-4877-bfef-0182e3137dd2",
   "metadata": {},
   "outputs": [],
   "source": []
  }
 ],
 "metadata": {
  "kernelspec": {
   "display_name": "Python 3 (ipykernel)",
   "language": "python",
   "name": "python3"
  },
  "language_info": {
   "codemirror_mode": {
    "name": "ipython",
    "version": 3
   },
   "file_extension": ".py",
   "mimetype": "text/x-python",
   "name": "python",
   "nbconvert_exporter": "python",
   "pygments_lexer": "ipython3",
   "version": "3.12.1"
  },
  "toc": {
   "base_numbering": 1,
   "nav_menu": {},
   "number_sections": true,
   "sideBar": true,
   "skip_h1_title": false,
   "title_cell": "Table of Contents",
   "title_sidebar": "Contents",
   "toc_cell": false,
   "toc_position": {},
   "toc_section_display": true,
   "toc_window_display": false
  },
  "varInspector": {
   "cols": {
    "lenName": 16,
    "lenType": 16,
    "lenVar": 40
   },
   "kernels_config": {
    "python": {
     "delete_cmd_postfix": "",
     "delete_cmd_prefix": "del ",
     "library": "var_list.py",
     "varRefreshCmd": "print(var_dic_list())"
    },
    "r": {
     "delete_cmd_postfix": ") ",
     "delete_cmd_prefix": "rm(",
     "library": "var_list.r",
     "varRefreshCmd": "cat(var_dic_list()) "
    }
   },
   "types_to_exclude": [
    "module",
    "function",
    "builtin_function_or_method",
    "instance",
    "_Feature"
   ],
   "window_display": false
  },
  "widgets": {
   "application/vnd.jupyter.widget-state+json": {
    "state": {},
    "version_major": 2,
    "version_minor": 0
   }
  }
 },
 "nbformat": 4,
 "nbformat_minor": 5
}
