{
 "cells": [
  {
   "cell_type": "markdown",
   "id": "123456",
   "metadata": {},
   "source": [
    "<div style=\"text-align:left;font-size:2em\"><span style=\"font-weight:bolder;font-size:1.25em\">SP2273 | Learning Portfolio</span><br><br><span style=\"font-weight:bold;color:darkred\">Storing Data (Good)</span></div>"
   ]
  },
  {
   "cell_type": "markdown",
   "id": "6c131e28",
   "metadata": {},
   "source": [
    "# What to expect in this chapter"
   ]
  },
  {
   "cell_type": "code",
   "execution_count": null,
   "id": "53d6b0a4",
   "metadata": {},
   "outputs": [],
   "source": []
  },
  {
   "cell_type": "markdown",
   "id": "a13e94ac",
   "metadata": {},
   "source": [
    "# 1 Subsetting: Indexing and Slicing"
   ]
  },
  {
   "cell_type": "markdown",
   "id": "2cdce55c",
   "metadata": {},
   "source": [
    "## 1.1 Lists & Arrays in 1D | Subsetting & Indexing"
   ]
  },
  {
   "cell_type": "markdown",
   "id": "2871a9ec",
   "metadata": {},
   "source": [
    "## 1.2 Arrays only | Subsetting by masking"
   ]
  },
  {
   "cell_type": "markdown",
   "id": "a5bf956c",
   "metadata": {},
   "source": [
    "## 1.3 Lists & Arrays in 2D | Indexing & Slicing"
   ]
  },
  {
   "cell_type": "code",
   "execution_count": 1,
   "id": "33132aae",
   "metadata": {},
   "outputs": [],
   "source": [
    "py_list_2d = [[1, \"A\"], [2, \"B\"], [3, \"C\"], [4, \"D\"],\n",
    "              [5, \"E\"], [6, \"F\"], [7, \"G\"], [8, \"H\"],\n",
    "              [9, \"I\"], [10, \"J\"]]\n",
    "\n",
    "np_array_2d = np.array(py_list_2d)"
   ]
  },
  {
   "cell_type": "code",
   "execution_count": 3,
   "id": "c5c33cc3",
   "metadata": {},
   "outputs": [
    {
     "data": {
      "text/plain": [
       "[4, 'D']"
      ]
     },
     "execution_count": 3,
     "metadata": {},
     "output_type": "execute_result"
    }
   ],
   "source": [
    "py_list_2d[3]"
   ]
  },
  {
   "cell_type": "code",
   "execution_count": 2,
   "id": "01085bdb",
   "metadata": {},
   "outputs": [
    {
     "data": {
      "text/plain": [
       "array(['4', 'D'], dtype='<U11')"
      ]
     },
     "execution_count": 2,
     "metadata": {},
     "output_type": "execute_result"
    }
   ],
   "source": [
    "np_array_2d[3]"
   ]
  },
  {
   "cell_type": "code",
   "execution_count": 4,
   "id": "51f22a51",
   "metadata": {},
   "outputs": [
    {
     "data": {
      "text/plain": [
       "4"
      ]
     },
     "execution_count": 4,
     "metadata": {},
     "output_type": "execute_result"
    }
   ],
   "source": [
    "py_list_2d[3][0]"
   ]
  },
  {
   "cell_type": "code",
   "execution_count": 5,
   "id": "b98a3c0e",
   "metadata": {},
   "outputs": [
    {
     "data": {
      "text/plain": [
       "'4'"
      ]
     },
     "execution_count": 5,
     "metadata": {},
     "output_type": "execute_result"
    }
   ],
   "source": [
    "np_array_2d[3, 0]"
   ]
  },
  {
   "cell_type": "code",
   "execution_count": 6,
   "id": "812a13f5",
   "metadata": {},
   "outputs": [
    {
     "data": {
      "text/plain": [
       "[[1, 'A'], [2, 'B'], [3, 'C']]"
      ]
     },
     "execution_count": 6,
     "metadata": {},
     "output_type": "execute_result"
    }
   ],
   "source": [
    "py_list_2d[:3]"
   ]
  },
  {
   "cell_type": "code",
   "execution_count": 7,
   "id": "3d30e6f7",
   "metadata": {},
   "outputs": [
    {
     "data": {
      "text/plain": [
       "array([['1', 'A'],\n",
       "       ['2', 'B'],\n",
       "       ['3', 'C']], dtype='<U11')"
      ]
     },
     "execution_count": 7,
     "metadata": {},
     "output_type": "execute_result"
    }
   ],
   "source": [
    "np_array_2d[:3]"
   ]
  },
  {
   "cell_type": "code",
   "execution_count": 8,
   "id": "0c103008",
   "metadata": {},
   "outputs": [
    {
     "data": {
      "text/plain": [
       "[1, 'A']"
      ]
     },
     "execution_count": 8,
     "metadata": {},
     "output_type": "execute_result"
    }
   ],
   "source": [
    "py_list_2d[:3][0]\n",
    "# Expect 1st element of 1st 3 elements, \n",
    "# Instead provides the first of the list"
   ]
  },
  {
   "cell_type": "code",
   "execution_count": 9,
   "id": "167c7409",
   "metadata": {},
   "outputs": [
    {
     "data": {
      "text/plain": [
       "array(['1', '2', '3'], dtype='<U11')"
      ]
     },
     "execution_count": 9,
     "metadata": {},
     "output_type": "execute_result"
    }
   ],
   "source": [
    "np_array_2d[:3, 0]\n",
    "# Arrays work element-wise"
   ]
  },
  {
   "cell_type": "code",
   "execution_count": 10,
   "id": "e8fd21e9",
   "metadata": {},
   "outputs": [
    {
     "data": {
      "text/plain": [
       "[4, 'D']"
      ]
     },
     "execution_count": 10,
     "metadata": {},
     "output_type": "execute_result"
    }
   ],
   "source": [
    "py_list_2d[3:6][0]"
   ]
  },
  {
   "cell_type": "code",
   "execution_count": 11,
   "id": "818ad5cb",
   "metadata": {},
   "outputs": [
    {
     "data": {
      "text/plain": [
       "array(['4', '5', '6'], dtype='<U11')"
      ]
     },
     "execution_count": 11,
     "metadata": {},
     "output_type": "execute_result"
    }
   ],
   "source": [
    "np_array_2d[3:6, 0]"
   ]
  },
  {
   "cell_type": "code",
   "execution_count": 12,
   "id": "6a4b6feb",
   "metadata": {},
   "outputs": [
    {
     "data": {
      "text/plain": [
       "array(['1', '2', '3', '4', '5', '6', '7', '8', '9', '10'], dtype='<U11')"
      ]
     },
     "execution_count": 12,
     "metadata": {},
     "output_type": "execute_result"
    }
   ],
   "source": [
    "np_array_2d[:, 0]"
   ]
  },
  {
   "cell_type": "markdown",
   "id": "6c2869e9",
   "metadata": {},
   "source": [
    "## 1.4 Growing lists"
   ]
  },
  {
   "cell_type": "code",
   "execution_count": 13,
   "id": "bcbc2b59",
   "metadata": {},
   "outputs": [
    {
     "data": {
      "text/plain": [
       "[1, 2, 1, 2, 1, 2, 1, 2, 1, 2]"
      ]
     },
     "execution_count": 13,
     "metadata": {},
     "output_type": "execute_result"
    }
   ],
   "source": [
    "x=[1, 2]*5\n",
    "x"
   ]
  },
  {
   "cell_type": "code",
   "execution_count": 14,
   "id": "8ab5578f",
   "metadata": {},
   "outputs": [
    {
     "data": {
      "text/plain": [
       "[1, 2, 3, 4]"
      ]
     },
     "execution_count": 14,
     "metadata": {},
     "output_type": "execute_result"
    }
   ],
   "source": [
    "x=[1]\n",
    "x= x + [2]\n",
    "x= x + [3]\n",
    "x= x + [4]\n",
    "x"
   ]
  },
  {
   "cell_type": "code",
   "execution_count": 15,
   "id": "a3ef6ebc",
   "metadata": {},
   "outputs": [
    {
     "data": {
      "text/plain": [
       "[1, 2, 3, 4]"
      ]
     },
     "execution_count": 15,
     "metadata": {},
     "output_type": "execute_result"
    }
   ],
   "source": [
    "x=[1]\n",
    "x+= [2]\n",
    "x+= [3]\n",
    "x+= [4]\n",
    "x"
   ]
  },
  {
   "cell_type": "code",
   "execution_count": 16,
   "id": "fd1fb437",
   "metadata": {},
   "outputs": [
    {
     "data": {
      "text/plain": [
       "[1, 2, 3, 4]"
      ]
     },
     "execution_count": 16,
     "metadata": {},
     "output_type": "execute_result"
    }
   ],
   "source": [
    "x=[1]\n",
    "x.append(2)\n",
    "x.append(3)\n",
    "x.append(4)\n",
    "x\n",
    "\n",
    "#append() runs faster apparently"
   ]
  },
  {
   "cell_type": "code",
   "execution_count": 17,
   "id": "799de705",
   "metadata": {},
   "outputs": [
    {
     "data": {
      "text/plain": [
       "[1, 2, 3, 4, 5, 6]"
      ]
     },
     "execution_count": 17,
     "metadata": {},
     "output_type": "execute_result"
    }
   ],
   "source": [
    "x=[1, 2, 3]\n",
    "x.extend([4, 5, 6])\n",
    "x"
   ]
  },
  {
   "cell_type": "code",
   "execution_count": 18,
   "id": "46953340",
   "metadata": {},
   "outputs": [
    {
     "data": {
      "text/plain": [
       "[1, 2, 3, [4, 5, 6]]"
      ]
     },
     "execution_count": 18,
     "metadata": {},
     "output_type": "execute_result"
    }
   ],
   "source": [
    "x=[1, 2, 3]\n",
    "x.append([4, 5, 6])\n",
    "x"
   ]
  },
  {
   "cell_type": "markdown",
   "id": "1e679f8d",
   "metadata": {},
   "source": [
    "# Some loose ends"
   ]
  },
  {
   "cell_type": "markdown",
   "id": "d075d90b",
   "metadata": {},
   "source": [
    "## 1.5 Tuples"
   ]
  },
  {
   "cell_type": "code",
   "execution_count": 19,
   "id": "f008948b",
   "metadata": {},
   "outputs": [
    {
     "name": "stdout",
     "output_type": "stream",
     "text": [
      "1\n"
     ]
    },
    {
     "ename": "TypeError",
     "evalue": "'tuple' object does not support item assignment",
     "output_type": "error",
     "traceback": [
      "\u001b[1;31m---------------------------------------------------------------------------\u001b[0m",
      "\u001b[1;31mTypeError\u001b[0m                                 Traceback (most recent call last)",
      "Cell \u001b[1;32mIn[19], line 4\u001b[0m\n\u001b[0;32m      2\u001b[0m \u001b[38;5;28mprint\u001b[39m(a[\u001b[38;5;241m0\u001b[39m])    \u001b[38;5;66;03m# Access data\u001b[39;00m\n\u001b[0;32m      3\u001b[0m \u001b[38;5;66;03m# The following will NOT work\u001b[39;00m\n\u001b[1;32m----> 4\u001b[0m \u001b[43ma\u001b[49m\u001b[43m[\u001b[49m\u001b[38;5;241;43m0\u001b[39;49m\u001b[43m]\u001b[49m\u001b[38;5;241m=\u001b[39m\u001b[38;5;241m-\u001b[39m\u001b[38;5;241m1\u001b[39m\n\u001b[0;32m      5\u001b[0m a[\u001b[38;5;241m0\u001b[39m]\u001b[38;5;241m+\u001b[39m\u001b[38;5;241m=\u001b[39m [\u001b[38;5;241m10\u001b[39m]\n",
      "\u001b[1;31mTypeError\u001b[0m: 'tuple' object does not support item assignment"
     ]
    }
   ],
   "source": [
    "a=(1, 2, 3)     # Define tuple\n",
    "print(a[0])    # Access data\n",
    "# The following will NOT work\n",
    "a[0]=-1\n",
    "a[0]+= [10]"
   ]
  },
  {
   "cell_type": "markdown",
   "id": "ecff684c",
   "metadata": {},
   "source": [
    "## 1.6 Be VERY careful when copying"
   ]
  },
  {
   "cell_type": "code",
   "execution_count": 23,
   "id": "ea3bc893",
   "metadata": {},
   "outputs": [
    {
     "data": {
      "text/plain": [
       "[1, 2, 3]"
      ]
     },
     "execution_count": 23,
     "metadata": {},
     "output_type": "execute_result"
    }
   ],
   "source": [
    "x=[1, 2, 3]\n",
    "y=x           # DON'T do this!\n",
    "z=x           # DON'T do this!\n",
    "y"
   ]
  },
  {
   "cell_type": "code",
   "execution_count": 24,
   "id": "9e40b9c7",
   "metadata": {},
   "outputs": [
    {
     "data": {
      "text/plain": [
       "[1, 2, 3]"
      ]
     },
     "execution_count": 24,
     "metadata": {},
     "output_type": "execute_result"
    }
   ],
   "source": [
    "x=[1, 2, 3]\n",
    "y=x.copy()\n",
    "z=x.copy()\n",
    "y"
   ]
  },
  {
   "cell_type": "markdown",
   "id": "7c449262",
   "metadata": {},
   "source": [
    "# Exercises & Self-Assessment"
   ]
  },
  {
   "cell_type": "markdown",
   "id": "91c891da",
   "metadata": {},
   "source": [
    "**Subsetting**: Selecting  <br>\n",
    "**Indexing**: Selecting an element at a particular position in a list or array  <br>\n",
    "**Slicing**: Selecting a range of elements <br>\n",
    "**Masking**: Using a NumPy array to select for elements that meet certain conditions (True/False)"
   ]
  },
  {
   "cell_type": "code",
   "execution_count": 45,
   "id": "f6244ecc",
   "metadata": {},
   "outputs": [
    {
     "name": "stdout",
     "output_type": "stream",
     "text": [
      "['A' 'C' 'E' 'G' 'I']\n"
     ]
    }
   ],
   "source": [
    "np_array_2d = np.array([[1, \"A\"], [3, \"C\"], [2, \"B\"], [4, \"D\"],\n",
    "                        [5, \"E\"], [7, \"G\"], [6, \"F\"], [8, \"H\"],\n",
    "                        [10, \"J\"], [9, \"I\"]])\n",
    "# Your solution here\n",
    "number_array = np_array_2d[:, 0].astype(int)\n",
    "letter_array = np_array_2d[:, 1]\n",
    "print(letter_array[np.remainder(number_array, 2) == 1])\n",
    "\n"
   ]
  },
  {
   "cell_type": "markdown",
   "id": "2de9f589",
   "metadata": {},
   "source": [
    "## Footnotes"
   ]
  }
 ],
 "metadata": {
  "kernelspec": {
   "display_name": "Python 3 (ipykernel)",
   "language": "python",
   "name": "python3"
  },
  "language_info": {
   "codemirror_mode": {
    "name": "ipython",
    "version": 3
   },
   "file_extension": ".py",
   "mimetype": "text/x-python",
   "name": "python",
   "nbconvert_exporter": "python",
   "pygments_lexer": "ipython3",
   "version": "3.11.5"
  },
  "toc": {
   "base_numbering": 1,
   "nav_menu": {},
   "number_sections": true,
   "sideBar": true,
   "skip_h1_title": false,
   "title_cell": "Table of Contents",
   "title_sidebar": "Contents",
   "toc_cell": false,
   "toc_position": {},
   "toc_section_display": true,
   "toc_window_display": false
  },
  "varInspector": {
   "cols": {
    "lenName": 16,
    "lenType": 16,
    "lenVar": 40
   },
   "kernels_config": {
    "python": {
     "delete_cmd_postfix": "",
     "delete_cmd_prefix": "del ",
     "library": "var_list.py",
     "varRefreshCmd": "print(var_dic_list())"
    },
    "r": {
     "delete_cmd_postfix": ") ",
     "delete_cmd_prefix": "rm(",
     "library": "var_list.r",
     "varRefreshCmd": "cat(var_dic_list()) "
    }
   },
   "types_to_exclude": [
    "module",
    "function",
    "builtin_function_or_method",
    "instance",
    "_Feature"
   ],
   "window_display": false
  },
  "vscode": {
   "interpreter": {
    "hash": "31f2aee4e71d21fbe5cf8b01ff0e069b9275f58929596ceb00d14d90e3e16cd6"
   }
  }
 },
 "nbformat": 4,
 "nbformat_minor": 5
}
