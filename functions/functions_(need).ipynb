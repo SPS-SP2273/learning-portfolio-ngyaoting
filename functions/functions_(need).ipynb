{
 "cells": [
  {
   "cell_type": "markdown",
   "id": "123456",
   "metadata": {},
   "source": [
    "<div style=\"text-align:left;font-size:2em\"><span style=\"font-weight:bolder;font-size:1.25em\">SP2273 | Learning Portfolio</span><br><br><span style=\"font-weight:bold;color:darkred\">Functions (Need)</span></div>"
   ]
  },
  {
   "cell_type": "markdown",
   "id": "1d8c6588",
   "metadata": {},
   "source": [
    "# What to expect in this chapter"
   ]
  },
  {
   "cell_type": "markdown",
   "id": "fdc4774c",
   "metadata": {},
   "source": [
    "# 1 User-defined functions"
   ]
  },
  {
   "cell_type": "markdown",
   "id": "93380e7b",
   "metadata": {},
   "source": [
    "## 1.1 Named Functions"
   ]
  },
  {
   "cell_type": "markdown",
   "id": "f1c0193c",
   "metadata": {},
   "source": [
    "### Named functions that return"
   ]
  },
  {
   "cell_type": "code",
   "execution_count": null,
   "id": "1c271409",
   "metadata": {},
   "outputs": [],
   "source": [
    "\n",
    "# Your code here\n",
    "def greeting(name):\n",
    "    if name == 'Batman':\n",
    "        return 'Hello Batman! So, nice to meet you!'\n",
    "    else:\n",
    "        return f'Hello {name}!'\n",
    "    \n",
    "greeting(input(\"What is your name?\"))"
   ]
  },
  {
   "cell_type": "markdown",
   "id": "8862fbd5",
   "metadata": {},
   "source": [
    "### Named functions that don’t return"
   ]
  },
  {
   "cell_type": "markdown",
   "id": "2319f67f-8410-4ee7-ab09-28feeee1a449",
   "metadata": {},
   "source": [
    "A function does not have to return anything. A good example is `print()`, which does something but does not return a value. You will often also need functions like these, for instance, to save data to a file. I will show you a few of such functions in later chapters."
   ]
  },
  {
   "cell_type": "markdown",
   "id": "7f836c5b",
   "metadata": {},
   "source": [
    "## 1.2 Anonymous functions"
   ]
  },
  {
   "cell_type": "code",
   "execution_count": 5,
   "id": "cdb76893",
   "metadata": {},
   "outputs": [
    {
     "data": {
      "text/plain": [
       "'Hello Super Man!'"
      ]
     },
     "execution_count": 5,
     "metadata": {},
     "output_type": "execute_result"
    }
   ],
   "source": [
    "my_short_function = lambda name: f\"Hello {name}!\"\n",
    "\n",
    "my_short_function(name=\"Super Man\")\n"
   ]
  },
  {
   "cell_type": "code",
   "execution_count": 11,
   "id": "2c2b9812",
   "metadata": {},
   "outputs": [],
   "source": [
    "numbers=[[9, 0, -10],\n",
    "         [8, 1, -11],\n",
    "         [7, 2, -12],\n",
    "         [6, 3, -13],\n",
    "         [5, 4, -14],\n",
    "         [4, 5, -15],\n",
    "         [3, 6, -16],\n",
    "         [2, 7, -17],\n",
    "         [1, 8, -18],\n",
    "         [0, 9, -19]]\n",
    "\n"
   ]
  },
  {
   "cell_type": "code",
   "execution_count": 10,
   "id": "1b29db40",
   "metadata": {},
   "outputs": [
    {
     "data": {
      "text/plain": [
       "[[0, 9, -19],\n",
       " [1, 8, -18],\n",
       " [2, 7, -17],\n",
       " [3, 6, -16],\n",
       " [4, 5, -15],\n",
       " [5, 4, -14],\n",
       " [6, 3, -13],\n",
       " [7, 2, -12],\n",
       " [8, 1, -11],\n",
       " [9, 0, -10]]"
      ]
     },
     "execution_count": 10,
     "metadata": {},
     "output_type": "execute_result"
    }
   ],
   "source": [
    "sorted(numbers)"
   ]
  },
  {
   "cell_type": "code",
   "execution_count": 12,
   "id": "f02c3175",
   "metadata": {},
   "outputs": [
    {
     "data": {
      "text/plain": [
       "[[9, 0, -10],\n",
       " [8, 1, -11],\n",
       " [7, 2, -12],\n",
       " [6, 3, -13],\n",
       " [5, 4, -14],\n",
       " [4, 5, -15],\n",
       " [3, 6, -16],\n",
       " [2, 7, -17],\n",
       " [1, 8, -18],\n",
       " [0, 9, -19]]"
      ]
     },
     "execution_count": 12,
     "metadata": {},
     "output_type": "execute_result"
    }
   ],
   "source": [
    "# Sort by comparing a custom key\n",
    "# that uses the 2nd element (index=1)\n",
    "sorted(numbers, key=lambda x: x[1])"
   ]
  },
  {
   "cell_type": "code",
   "execution_count": 13,
   "id": "b29b72d8",
   "metadata": {},
   "outputs": [
    {
     "data": {
      "text/plain": [
       "[[0, 9, -19],\n",
       " [1, 8, -18],\n",
       " [2, 7, -17],\n",
       " [3, 6, -16],\n",
       " [4, 5, -15],\n",
       " [5, 4, -14],\n",
       " [6, 3, -13],\n",
       " [7, 2, -12],\n",
       " [8, 1, -11],\n",
       " [9, 0, -10]]"
      ]
     },
     "execution_count": 13,
     "metadata": {},
     "output_type": "execute_result"
    }
   ],
   "source": [
    "# Sort by comparing a custom key\n",
    "# that uses the sum of the elements.\n",
    "sorted(numbers, key=lambda x: sum(x))   "
   ]
  },
  {
   "cell_type": "markdown",
   "id": "bde9d954",
   "metadata": {},
   "source": [
    "## 1.3 Optional arguments"
   ]
  },
  {
   "cell_type": "code",
   "execution_count": 14,
   "id": "139dab63",
   "metadata": {},
   "outputs": [],
   "source": [
    "def greeting(name='no one'):\n",
    "    if name == 'Batman':\n",
    "        return 'Hello Batman! So, nice to meet you!'\n",
    "    else:\n",
    "        return f'Hello {name}!'"
   ]
  },
  {
   "cell_type": "code",
   "execution_count": 15,
   "id": "a84e966b",
   "metadata": {},
   "outputs": [
    {
     "data": {
      "text/plain": [
       "'Hello no one!'"
      ]
     },
     "execution_count": 15,
     "metadata": {},
     "output_type": "execute_result"
    }
   ],
   "source": [
    "greeting()"
   ]
  },
  {
   "cell_type": "code",
   "execution_count": 16,
   "id": "a28a1953",
   "metadata": {},
   "outputs": [
    {
     "name": "stdout",
     "output_type": "stream",
     "text": [
      "I am Batman!\n"
     ]
    }
   ],
   "source": [
    "# Using default values\n",
    "print('I', 'am', 'Batman!')\n"
   ]
  },
  {
   "cell_type": "code",
   "execution_count": 17,
   "id": "c7340e56",
   "metadata": {},
   "outputs": [
    {
     "name": "stdout",
     "output_type": "stream",
     "text": [
      "I---am---Batman!\n"
     ]
    }
   ],
   "source": [
    "# Specifying an optional argument\n",
    "print('I', 'am', 'Batman!', sep='---')  "
   ]
  },
  {
   "cell_type": "markdown",
   "id": "a568aa59",
   "metadata": {},
   "source": [
    "## 1.4 The importance of functions?"
   ]
  },
  {
   "cell_type": "markdown",
   "id": "dbbb37c4",
   "metadata": {},
   "source": [
    "### An argument for functions"
   ]
  },
  {
   "cell_type": "markdown",
   "id": "ec93942a-a6d2-4f00-bbe3-c22b50b9061d",
   "metadata": {},
   "source": [
    "An argument for functions\n",
    "Now that you know a bit about creating functions, let me highlight why functions are a good idea.\n",
    "\n",
    "Abstraction of details The most important benefit of functions goes beyond programming and relates to your ability to strategize. If you break up a complicated solution into modular chunks (i.e., functions), it becomes easier to think about it because you are not dealing with all the details all at once. As a result, it is easier to focus on your overall solution because you are not distracted by unnecessary information. This hiding of ‘stuff’ is called abstraction in computer science lingo. The concept of abstraction can be tricky to grasp. So, let me share an analogy related to driving.\n",
    "\n",
    "A vehicle has many ‘abstracted’ systems, amongst which the engine is a good example. You do not need to know the engine’s details (e.g. electric, petrol, diesel, guineapig) to use it. You can use the engine of almost any car because you are not required to know what happens inside. This frees up your resources because you are not distracted by unnecessary details. Of course, there will be times when you want to know how an engine works to pick the best engine.\n",
    "\n",
    "Reusability of code If you encapsulate a chunk of code in a function, it becomes straightforward to reuse it instead of copying and pasting at different places. This means your code will be shorter and more compact.\n",
    "\n",
    "Maintainability of code With functions, your code is easier to change and maintain because you need only make changes in one place, at the function definition.\n",
    "# Your code here\n"
   ]
  },
  {
   "cell_type": "markdown",
   "id": "fc628ad5",
   "metadata": {},
   "source": [
    "### A word of caution"
   ]
  },
  {
   "cell_type": "code",
   "execution_count": null,
   "id": "1363e93c",
   "metadata": {},
   "outputs": [],
   "source": [
    "\n",
    "# Your code here\n"
   ]
  }
 ],
 "metadata": {
  "kernelspec": {
   "display_name": "Python 3 (ipykernel)",
   "language": "python",
   "name": "python3"
  },
  "language_info": {
   "codemirror_mode": {
    "name": "ipython",
    "version": 3
   },
   "file_extension": ".py",
   "mimetype": "text/x-python",
   "name": "python",
   "nbconvert_exporter": "python",
   "pygments_lexer": "ipython3",
   "version": "3.12.1"
  },
  "toc": {
   "base_numbering": 1,
   "nav_menu": {},
   "number_sections": true,
   "sideBar": true,
   "skip_h1_title": false,
   "title_cell": "Table of Contents",
   "title_sidebar": "Contents",
   "toc_cell": false,
   "toc_position": {},
   "toc_section_display": true,
   "toc_window_display": false
  },
  "varInspector": {
   "cols": {
    "lenName": 16,
    "lenType": 16,
    "lenVar": 40
   },
   "kernels_config": {
    "python": {
     "delete_cmd_postfix": "",
     "delete_cmd_prefix": "del ",
     "library": "var_list.py",
     "varRefreshCmd": "print(var_dic_list())"
    },
    "r": {
     "delete_cmd_postfix": ") ",
     "delete_cmd_prefix": "rm(",
     "library": "var_list.r",
     "varRefreshCmd": "cat(var_dic_list()) "
    }
   },
   "types_to_exclude": [
    "module",
    "function",
    "builtin_function_or_method",
    "instance",
    "_Feature"
   ],
   "window_display": false
  },
  "vscode": {
   "interpreter": {
    "hash": "31f2aee4e71d21fbe5cf8b01ff0e069b9275f58929596ceb00d14d90e3e16cd6"
   }
  },
  "widgets": {
   "application/vnd.jupyter.widget-state+json": {
    "state": {},
    "version_major": 2,
    "version_minor": 0
   }
  }
 },
 "nbformat": 4,
 "nbformat_minor": 5
}
