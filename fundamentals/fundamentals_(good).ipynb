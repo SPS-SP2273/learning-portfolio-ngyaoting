{
 "cells": [
  {
   "cell_type": "markdown",
   "id": "123456",
   "metadata": {},
   "source": [
    "<div style=\"text-align:left;font-size:2em\"><span style=\"font-weight:bolder;font-size:1.25em\">SP2273 | Learning Portfolio</span><br><br><span style=\"font-weight:bold;color:darkred\">Fundamentals (Good)</span></div>"
   ]
  },
  {
   "cell_type": "markdown",
   "id": "148b3a1d",
   "metadata": {},
   "source": [
    "**1. elif (i.e else if)**\n",
    "\n",
    "- `elif` can be used if we need more branches in an `if` statement"
   ]
  },
  {
   "cell_type": "code",
   "execution_count": 2,
   "id": "a9a53ac1",
   "metadata": {},
   "outputs": [
    {
     "name": "stdout",
     "output_type": "stream",
     "text": [
      "Type apple, banana or anything elseapple\n",
      "Wow! An apple!\n"
     ]
    }
   ],
   "source": [
    "fruit = input(\"Type apple, banana or anything else\")\n",
    "\n",
    "if fruit == \"apple\":\n",
    "    print(\"Wow! An apple!\")\n",
    "    \n",
    "elif fruit == \"banana\":\n",
    "    print(\"Wow! What a nice banana!\")\n",
    "\n",
    "else:\n",
    "    print(\"No fruit :(\")"
   ]
  },
  {
   "cell_type": "markdown",
   "id": "36baaba9",
   "metadata": {},
   "source": [
    "2. Asking questions\n",
    "\n",
    "- These questions will return either True or False"
   ]
  },
  {
   "cell_type": "code",
   "execution_count": 3,
   "id": "1826838d",
   "metadata": {},
   "outputs": [],
   "source": [
    "fruits = ['apple', 'banana', 'pineapple', 'jackfruit']\n",
    "vegetables = ['celery', 'potato', 'broccoli', 'kale']"
   ]
  },
  {
   "cell_type": "code",
   "execution_count": 5,
   "id": "14787d60",
   "metadata": {},
   "outputs": [
    {
     "name": "stdout",
     "output_type": "stream",
     "text": [
      "Search for a fruitapple\n"
     ]
    },
    {
     "data": {
      "text/plain": [
       "True"
      ]
     },
     "execution_count": 5,
     "metadata": {},
     "output_type": "execute_result"
    }
   ],
   "source": [
    "input(\"Search for a fruit\") in fruits"
   ]
  },
  {
   "cell_type": "markdown",
   "id": "7c7c160c",
   "metadata": {},
   "source": [
    "If the fruit you enter is present in the list fruits, the above code will return True"
   ]
  },
  {
   "cell_type": "code",
   "execution_count": 4,
   "id": "d22c01e0-babc-4776-a4d5-78fca8a3b724",
   "metadata": {},
   "outputs": [
    {
     "data": {
      "text/plain": [
       "True"
      ]
     },
     "execution_count": 4,
     "metadata": {},
     "output_type": "execute_result"
    }
   ],
   "source": [
    "'apple' in fruits"
   ]
  },
  {
   "cell_type": "code",
   "execution_count": 5,
   "id": "b3df6763-a628-4e84-a43a-120eb15f0896",
   "metadata": {},
   "outputs": [
    {
     "data": {
      "text/plain": [
       "False"
      ]
     },
     "execution_count": 5,
     "metadata": {},
     "output_type": "execute_result"
    }
   ],
   "source": [
    "'peach' in fruits"
   ]
  },
  {
   "cell_type": "code",
   "execution_count": 6,
   "id": "f3fa7472-939c-498d-8c7a-088d8a5c4184",
   "metadata": {},
   "outputs": [
    {
     "data": {
      "text/plain": [
       "True"
      ]
     },
     "execution_count": 6,
     "metadata": {},
     "output_type": "execute_result"
    }
   ],
   "source": [
    "'peach' not in fruits"
   ]
  },
  {
   "cell_type": "code",
   "execution_count": 7,
   "id": "ca60081d-1190-43af-848c-1a5cd0b7568e",
   "metadata": {},
   "outputs": [
    {
     "data": {
      "text/plain": [
       "True"
      ]
     },
     "execution_count": 7,
     "metadata": {},
     "output_type": "execute_result"
    }
   ],
   "source": [
    "('apple' in fruits) and ('celery' in vegetables)"
   ]
  },
  {
   "cell_type": "markdown",
   "id": "b78b010c-c0c5-4bb4-a5e9-8e1734e733e0",
   "metadata": {},
   "source": [
    "Both conditions must be met in order for the code to return **True**"
   ]
  },
  {
   "cell_type": "code",
   "execution_count": 8,
   "id": "10ee221d-c50d-40c5-b741-2f9b7548f107",
   "metadata": {},
   "outputs": [
    {
     "data": {
      "text/plain": [
       "True"
      ]
     },
     "execution_count": 8,
     "metadata": {},
     "output_type": "execute_result"
    }
   ],
   "source": [
    "('apple' in fruits) or ('celery' in vegetables)"
   ]
  },
  {
   "cell_type": "markdown",
   "id": "d0cf288d-b729-40d3-8ed7-203216154ed6",
   "metadata": {},
   "source": [
    "If either condition is met, the code returns **True**"
   ]
  },
  {
   "cell_type": "code",
   "execution_count": 9,
   "id": "a508782c-02c1-42be-9181-0211cd809a83",
   "metadata": {},
   "outputs": [
    {
     "data": {
      "text/plain": [
       "True"
      ]
     },
     "execution_count": 9,
     "metadata": {},
     "output_type": "execute_result"
    }
   ],
   "source": [
    "'app' in 'apple'"
   ]
  },
  {
   "cell_type": "code",
   "execution_count": 10,
   "id": "334ebbdc-8261-4a9f-8670-1c7779ba388e",
   "metadata": {},
   "outputs": [
    {
     "data": {
      "text/plain": [
       "False"
      ]
     },
     "execution_count": 10,
     "metadata": {},
     "output_type": "execute_result"
    }
   ],
   "source": [
    "'apples' > 'oranges'"
   ]
  },
  {
   "cell_type": "markdown",
   "id": "ba48467e-236d-4acb-9264-c3bc13fc3136",
   "metadata": {},
   "source": [
    "This comparison works because English letters are internally represented as numbers. For example, 'a' is 97 and 'o' is 111. This will become even clearer after you have worked on the section below on data types."
   ]
  },
  {
   "cell_type": "markdown",
   "id": "f9223be4",
   "metadata": {},
   "source": [
    "- `not`, `in`, `and`, `or` are common python keywords used for asking questions"
   ]
  },
  {
   "cell_type": "markdown",
   "id": "dbbde8a7",
   "metadata": {},
   "source": [
    "**3. Math questions**"
   ]
  },
  {
   "attachments": {
    "Screenshot%202024-02-08%20012936.png": {
     "image/png": "[encoded data removed]"
    }
   },
   "cell_type": "markdown",
   "id": "ee31fe51",
   "metadata": {},
   "source": [
    "![Screenshot%202024-02-08%20012936.png](attachment:Screenshot%202024-02-08%20012936.png)"
   ]
  },
  {
   "cell_type": "markdown",
   "id": "1ec6545e",
   "metadata": {},
   "source": [
    "- These symbols can be used to ask math questions"
   ]
  },
  {
   "cell_type": "code",
   "execution_count": 11,
   "id": "4209d211",
   "metadata": {},
   "outputs": [
    {
     "data": {
      "text/plain": [
       "True"
      ]
     },
     "execution_count": 11,
     "metadata": {},
     "output_type": "execute_result"
    }
   ],
   "source": [
    "x = 6\n",
    "5 < x < 10  # Cool"
   ]
  },
  {
   "cell_type": "markdown",
   "id": "e64901b6",
   "metadata": {},
   "source": [
    "**4. Data types**"
   ]
  },
  {
   "cell_type": "markdown",
   "id": "2b2b9353",
   "metadata": {},
   "source": [
    "1. Integer\n"
   ]
  },
  {
   "cell_type": "code",
   "execution_count": 12,
   "id": "b50808d3",
   "metadata": {},
   "outputs": [
    {
     "name": "stdout",
     "output_type": "stream",
     "text": [
      "1 <class 'int'>\n"
     ]
    }
   ],
   "source": [
    "x = int(1.234)\n",
    "print(x, type(x))"
   ]
  },
  {
   "cell_type": "markdown",
   "id": "b7a9fb4b",
   "metadata": {},
   "source": [
    "- The `int` function has converted the float `1.234` into an integer. This causes the number to lose its decimal portion. "
   ]
  },
  {
   "cell_type": "code",
   "execution_count": 13,
   "id": "e2ea2e16",
   "metadata": {},
   "outputs": [
    {
     "name": "stdout",
     "output_type": "stream",
     "text": [
      "1.234 <class 'str'>\n"
     ]
    }
   ],
   "source": [
    "x = str(1.234)\n",
    "print(x, type(x))"
   ]
  },
  {
   "cell_type": "markdown",
   "id": "a6589eae",
   "metadata": {},
   "source": [
    "- The `str` function has converted the float `1.234` into a string. This means that \"1.234\" is being read as though it were an english word. "
   ]
  },
  {
   "cell_type": "markdown",
   "id": "c7578caa",
   "metadata": {},
   "source": [
    "**5. Never compare floats directly**"
   ]
  },
  {
   "cell_type": "markdown",
   "id": "edc4d310",
   "metadata": {},
   "source": [
    "Floating point numbers cannot be exactly stored in a computer. This leads to errors called roundoff errors. "
   ]
  },
  {
   "cell_type": "code",
   "execution_count": 1,
   "id": "3e86eb08",
   "metadata": {},
   "outputs": [
    {
     "data": {
      "text/plain": [
       "False"
      ]
     },
     "execution_count": 1,
     "metadata": {},
     "output_type": "execute_result"
    }
   ],
   "source": [
    "a = 0.1     #returns False\n",
    "a3 = 0.3\n",
    "a * 3 == a3"
   ]
  },
  {
   "cell_type": "markdown",
   "id": "d328feb6",
   "metadata": {},
   "source": [
    "- 0.3 is not exactly 0.3"
   ]
  },
  {
   "cell_type": "code",
   "execution_count": 2,
   "id": "6ef73886",
   "metadata": {},
   "outputs": [
    {
     "data": {
      "text/plain": [
       "'0.29999999999999999'"
      ]
     },
     "execution_count": 2,
     "metadata": {},
     "output_type": "execute_result"
    }
   ],
   "source": [
    "f'{0.3:.17f}'"
   ]
  },
  {
   "cell_type": "markdown",
   "id": "a23fea9d",
   "metadata": {},
   "source": [
    "- To resolve this, check if the variable is close to the expected value instead of checking for inequality"
   ]
  },
  {
   "cell_type": "code",
   "execution_count": 3,
   "id": "4679d801",
   "metadata": {},
   "outputs": [
    {
     "data": {
      "text/plain": [
       "True"
      ]
     },
     "execution_count": 3,
     "metadata": {},
     "output_type": "execute_result"
    }
   ],
   "source": [
    "eps = 1E-10   #Makes sure the difference is negligible\n",
    "abs(a * 3 - a3) < eps"
   ]
  },
  {
   "cell_type": "markdown",
   "id": "908cebe1",
   "metadata": {},
   "source": [
    "- Numpy has a better way of doing this"
   ]
  },
  {
   "cell_type": "code",
   "execution_count": 4,
   "id": "e3818655",
   "metadata": {},
   "outputs": [
    {
     "data": {
      "text/plain": [
       "True"
      ]
     },
     "execution_count": 4,
     "metadata": {},
     "output_type": "execute_result"
    }
   ],
   "source": [
    "np.isclose(a * 3, a3)"
   ]
  },
  {
   "cell_type": "markdown",
   "id": "856feb96",
   "metadata": {},
   "source": [
    "**6. Combining English and variables**"
   ]
  },
  {
   "cell_type": "markdown",
   "id": "deabefa9",
   "metadata": {},
   "source": [
    "- f-strings can be used to do this easily"
   ]
  },
  {
   "cell_type": "code",
   "execution_count": 6,
   "id": "1d6ab6c0",
   "metadata": {},
   "outputs": [
    {
     "name": "stdout",
     "output_type": "stream",
     "text": [
      "I enjoy eating apples.\n"
     ]
    }
   ],
   "source": [
    "fruit = \"apple\"\n",
    "print(f\"I enjoy eating {fruit}s.\")"
   ]
  },
  {
   "cell_type": "code",
   "execution_count": 7,
   "id": "5bdb87bd",
   "metadata": {},
   "outputs": [
    {
     "name": "stdout",
     "output_type": "stream",
     "text": [
      "Bruce Wayne is Batman.\n"
     ]
    }
   ],
   "source": [
    "text = 'Bruce Wayne is Batman.'\n",
    "print(f'{text}')"
   ]
  },
  {
   "cell_type": "code",
   "execution_count": 8,
   "id": "7d799066",
   "metadata": {},
   "outputs": [
    {
     "name": "stdout",
     "output_type": "stream",
     "text": [
      "        Bruce Wayne is Batman.\n"
     ]
    }
   ],
   "source": [
    "print(f'{text:>30}')      # A block of 30 characters;\n",
    "                          # aligned right"
   ]
  },
  {
   "cell_type": "code",
   "execution_count": 9,
   "id": "4338dfa2",
   "metadata": {},
   "outputs": [
    {
     "name": "stdout",
     "output_type": "stream",
     "text": [
      "    Bruce Wayne is Batman.    \n"
     ]
    }
   ],
   "source": [
    "print(f'{text:^30}')      # A block of 30 characters;\n",
    "                          # aligned centre"
   ]
  },
  {
   "cell_type": "code",
   "execution_count": 10,
   "id": "452d4f32",
   "metadata": {},
   "outputs": [
    {
     "name": "stdout",
     "output_type": "stream",
     "text": [
      "Bruce Wayne is Batman.        \n"
     ]
    }
   ],
   "source": [
    "print(f'{text:<30}')      # A block of 30 characters;\n",
    "                          # aligned left"
   ]
  },
  {
   "cell_type": "markdown",
   "id": "7d1e7688",
   "metadata": {},
   "source": [
    "- Python can be used to format numbers into strings"
   ]
  },
  {
   "cell_type": "code",
   "execution_count": 11,
   "id": "eac37a29",
   "metadata": {},
   "outputs": [
    {
     "name": "stdout",
     "output_type": "stream",
     "text": [
      "The cube of pi to 6 decimal places is 31.006277\n"
     ]
    }
   ],
   "source": [
    "print(f'The cube of pi to 6 decimal places is {np.pi**3:.6f}')"
   ]
  },
  {
   "attachments": {
    "image_2024-02-08_105445255.png": {
     "image/png": "[encoded data removed]"
    }
   },
   "cell_type": "markdown",
   "id": "22c9cdf5",
   "metadata": {},
   "source": [
    "![image_2024-02-08_105445255.png](attachment:image_2024-02-08_105445255.png)"
   ]
  },
  {
   "cell_type": "markdown",
   "id": "6850fe9c",
   "metadata": {},
   "source": [
    "**7. Escape sequences**"
   ]
  },
  {
   "cell_type": "markdown",
   "id": "d45ab366",
   "metadata": {},
   "source": [
    "- use `\\n` to break a line\n",
    "- use `\\t` to add a tab"
   ]
  },
  {
   "cell_type": "code",
   "execution_count": 12,
   "id": "a0692838",
   "metadata": {},
   "outputs": [
    {
     "name": "stdout",
     "output_type": "stream",
     "text": [
      "Line 1\n",
      "\tLine 2\n",
      "\t\tLine 3\n"
     ]
    }
   ],
   "source": [
    "print('Line 1\\n\\tLine 2\\n\\t\\tLine 3')"
   ]
  },
  {
   "cell_type": "markdown",
   "id": "6963e522",
   "metadata": {},
   "source": [
    "- A `\\` can be used to avoid confusion with `'`"
   ]
  },
  {
   "cell_type": "code",
   "execution_count": 13,
   "id": "968b00e9",
   "metadata": {},
   "outputs": [
    {
     "name": "stdout",
     "output_type": "stream",
     "text": [
      "You're twenty years old.\n"
     ]
    }
   ],
   "source": [
    "print('You\\'re twenty years old.') "
   ]
  },
  {
   "cell_type": "markdown",
   "id": "45e7bc90",
   "metadata": {},
   "source": [
    "Apparently I don't need to escape lol"
   ]
  },
  {
   "cell_type": "code",
   "execution_count": 16,
   "id": "2d8c49f2",
   "metadata": {},
   "outputs": [
    {
     "name": "stdout",
     "output_type": "stream",
     "text": [
      "A\\B\\C\n"
     ]
    }
   ],
   "source": [
    "print('A\\B\\C')"
   ]
  },
  {
   "cell_type": "code",
   "execution_count": 15,
   "id": "9268f9b5",
   "metadata": {},
   "outputs": [
    {
     "name": "stdout",
     "output_type": "stream",
     "text": [
      "A\\B\\C\n"
     ]
    }
   ],
   "source": [
    "print('A\\\\B\\\\C')"
   ]
  },
  {
   "cell_type": "markdown",
   "id": "be06199b",
   "metadata": {},
   "source": [
    "**8. Computers read `=` from right to left**"
   ]
  },
  {
   "cell_type": "markdown",
   "id": "5ddb2ed7",
   "metadata": {},
   "source": [
    "- That allows you to do things like this"
   ]
  },
  {
   "cell_type": "code",
   "execution_count": 17,
   "id": "9bfaf94a",
   "metadata": {},
   "outputs": [
    {
     "name": "stdout",
     "output_type": "stream",
     "text": [
      "42\n"
     ]
    }
   ],
   "source": [
    "y = 40\n",
    "y = y + 2\n",
    "print(y)"
   ]
  },
  {
   "cell_type": "markdown",
   "id": "fc940302",
   "metadata": {},
   "source": [
    "- This format works. Use for shorter and easier to read code"
   ]
  },
  {
   "cell_type": "code",
   "execution_count": 18,
   "id": "9ec74c95",
   "metadata": {},
   "outputs": [
    {
     "name": "stdout",
     "output_type": "stream",
     "text": [
      "2\n",
      "4\n"
     ]
    }
   ],
   "source": [
    "y = 2\n",
    "print(y)\n",
    "y += 2\n",
    "print(y)"
   ]
  },
  {
   "cell_type": "code",
   "execution_count": null,
   "id": "435aca6a",
   "metadata": {},
   "outputs": [],
   "source": []
  }
 ],
 "metadata": {
  "kernelspec": {
   "display_name": "Python 3 (ipykernel)",
   "language": "python",
   "name": "python3"
  },
  "language_info": {
   "codemirror_mode": {
    "name": "ipython",
    "version": 3
   },
   "file_extension": ".py",
   "mimetype": "text/x-python",
   "name": "python",
   "nbconvert_exporter": "python",
   "pygments_lexer": "ipython3",
   "version": "3.12.1"
  },
  "toc": {
   "base_numbering": 1,
   "nav_menu": {},
   "number_sections": true,
   "sideBar": true,
   "skip_h1_title": false,
   "title_cell": "Table of Contents",
   "title_sidebar": "Contents",
   "toc_cell": false,
   "toc_position": {},
   "toc_section_display": true,
   "toc_window_display": false
  },
  "varInspector": {
   "cols": {
    "lenName": 16,
    "lenType": 16,
    "lenVar": 40
   },
   "kernels_config": {
    "python": {
     "delete_cmd_postfix": "",
     "delete_cmd_prefix": "del ",
     "library": "var_list.py",
     "varRefreshCmd": "print(var_dic_list())"
    },
    "r": {
     "delete_cmd_postfix": ") ",
     "delete_cmd_prefix": "rm(",
     "library": "var_list.r",
     "varRefreshCmd": "cat(var_dic_list()) "
    }
   },
   "types_to_exclude": [
    "module",
    "function",
    "builtin_function_or_method",
    "instance",
    "_Feature"
   ],
   "window_display": false
  },
  "vscode": {
   "interpreter": {
    "hash": "31f2aee4e71d21fbe5cf8b01ff0e069b9275f58929596ceb00d14d90e3e16cd6"
   }
  },
  "widgets": {
   "application/vnd.jupyter.widget-state+json": {
    "state": {},
    "version_major": 2,
    "version_minor": 0
   }
  }
 },
 "nbformat": 4,
 "nbformat_minor": 5
}
