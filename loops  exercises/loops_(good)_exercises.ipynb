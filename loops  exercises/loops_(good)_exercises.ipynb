{
 "cells": [
  {
   "cell_type": "markdown",
   "id": "123456",
   "metadata": {},
   "source": [
    "<div style=\"text-align:left;font-size:2em\"><span style=\"font-weight:bolder;font-size:1.25em\">SP2273 | Learning Portfolio</span><br><br><span style=\"font-weight:bold;color:darkred\">Loops (Good) Exercises</span></div>"
   ]
  },
  {
   "cell_type": "code",
   "execution_count": 1,
   "id": "97140893-cb7f-4932-be0b-4c8e7fff96e1",
   "metadata": {},
   "outputs": [],
   "source": [
    "import numpy as np\n"
   ]
  },
  {
   "cell_type": "markdown",
   "id": "a099e287",
   "metadata": {},
   "source": [
    "**Exercise 1: Make me an odd list**"
   ]
  },
  {
   "cell_type": "code",
   "execution_count": 1,
   "id": "82b7b072",
   "metadata": {},
   "outputs": [
    {
     "name": "stdout",
     "output_type": "stream",
     "text": [
      "1.45 µs ± 499 ns per loop (mean ± std. dev. of 7 runs, 1,000,000 loops each)\n"
     ]
    }
   ],
   "source": [
    "%%timeit\n",
    "odd_square_list = []\n",
    "for number in range(10):\n",
    "    if number % 2 != 0:\n",
    "        odd_square_list.append(number**2)\n",
    "\n",
    "#odd_square_list\n",
    "\n"
   ]
  },
  {
   "cell_type": "markdown",
   "id": "3650dc68",
   "metadata": {},
   "source": [
    "**Exercise 2: Make me another odd list**\n"
   ]
  },
  {
   "cell_type": "code",
   "execution_count": 2,
   "id": "b947e71b",
   "metadata": {},
   "outputs": [
    {
     "name": "stdout",
     "output_type": "stream",
     "text": [
      "2.02 µs ± 48.4 ns per loop (mean ± std. dev. of 7 runs, 1,000,000 loops each)\n"
     ]
    }
   ],
   "source": [
    "%%timeit\n",
    "[number**2 for number in range(10) if number % 2 != 0]"
   ]
  },
  {
   "cell_type": "markdown",
   "id": "fa853f87",
   "metadata": {},
   "source": [
    "**Exercise 3: Time me!**\n",
    "\n",
    "- The for loop is faster."
   ]
  },
  {
   "cell_type": "markdown",
   "id": "1dd2f0f9",
   "metadata": {},
   "source": [
    "**Exercise 4: A problem of decay**"
   ]
  },
  {
   "cell_type": "code",
   "execution_count": 5,
   "id": "b03411fb",
   "metadata": {},
   "outputs": [
    {
     "name": "stdout",
     "output_type": "stream",
     "text": [
      "The number of years required for the sample to reduce to half it's original amount is: 14\n"
     ]
    }
   ],
   "source": [
    "quantity = 100\n",
    "year_counter = 0\n",
    "while quantity > 50:\n",
    "    quantity *= 0.95\n",
    "    year_counter += 1\n",
    "\n",
    "print(f\"The number of years required for the sample to reduce to half it's original amount is: {year_counter}\")"
   ]
  },
  {
   "cell_type": "markdown",
   "id": "33cb86dd",
   "metadata": {},
   "source": [
    "**Exercise 5: Changes in CO<sub>2</sub>**"
   ]
  },
  {
   "cell_type": "code",
   "execution_count": 3,
   "id": "4e0a092f",
   "metadata": {},
   "outputs": [
    {
     "name": "stdout",
     "output_type": "stream",
     "text": [
      "2016 change in concentration: 3.41\n"
     ]
    }
   ],
   "source": [
    "co2_data = [\n",
    "    (2000, 369.55), (2001, 371.14), (2002, 373.28), \n",
    "    (2003, 375.80), (2004, 377.52), (2005, 379.80), \n",
    "    (2006, 381.90), (2007, 383.79), (2008, 385.60), \n",
    "    (2009, 387.43), (2010, 389.90), (2011, 391.65), \n",
    "    (2012, 393.85), (2013, 396.52), (2014, 398.65),\n",
    "    (2015, 400.83), (2016, 404.24), (2017, 406.55), \n",
    "    (2018, 408.52), (2019, 411.44), (2020, 414.24)\n",
    "]\n",
    "\n",
    "for data in co2_data:\n",
    "    \n",
    "    if co2_data.index(data) == 0:\n",
    "        continue\n",
    "    date = data[0]\n",
    "    co2_level = data[1]\n",
    "    \n",
    "    previous_co2_level = co2_data[co2_data.index(data)-1][1]\n",
    "    difference = round(co2_level - previous_co2_level, 2)\n",
    "    \n",
    "    if difference >= 3:\n",
    "        print(f\"{date} change in concentration: {difference}\")\n",
    "    "
   ]
  },
  {
   "cell_type": "code",
   "execution_count": 42,
   "id": "36744a06-292a-482f-a68b-339180eaa419",
   "metadata": {},
   "outputs": [
    {
     "name": "stdout",
     "output_type": "stream",
     "text": [
      "2016.0 change in concentration: 3.410000000000025\n"
     ]
    }
   ],
   "source": [
    "co2_data = np.array([\n",
    "    (2000, 369.55), (2001, 371.14), (2002, 373.28), \n",
    "    (2003, 375.80), (2004, 377.52), (2005, 379.80), \n",
    "    (2006, 381.90), (2007, 383.79), (2008, 385.60), \n",
    "    (2009, 387.43), (2010, 389.90), (2011, 391.65), \n",
    "    (2012, 393.85), (2013, 396.52), (2014, 398.65),\n",
    "    (2015, 400.83), (2016, 404.24), (2017, 406.55), \n",
    "    (2018, 408.52), (2019, 411.44), (2020, 414.24)\n",
    "])\n",
    "\n",
    "change = co2_data[1:][:,1]-co2_data[0:-1][:,1]\n",
    "mask = change > 3\n",
    "big_change = change[mask]\n",
    "big_change_year = co2_data[1:][mask][:,0]\n",
    "\n",
    "for year, change in zip(big_change_year, big_change):\n",
    "        print(f\"{year} change in concentration: {change}\")\n",
    "    \n"
   ]
  },
  {
   "cell_type": "code",
   "execution_count": null,
   "id": "83984de7",
   "metadata": {},
   "outputs": [],
   "source": []
  }
 ],
 "metadata": {
  "kernelspec": {
   "display_name": "Python 3 (ipykernel)",
   "language": "python",
   "name": "python3"
  },
  "language_info": {
   "codemirror_mode": {
    "name": "ipython",
    "version": 3
   },
   "file_extension": ".py",
   "mimetype": "text/x-python",
   "name": "python",
   "nbconvert_exporter": "python",
   "pygments_lexer": "ipython3",
   "version": "3.12.1"
  },
  "toc": {
   "base_numbering": 1,
   "nav_menu": {},
   "number_sections": true,
   "sideBar": true,
   "skip_h1_title": false,
   "title_cell": "Table of Contents",
   "title_sidebar": "Contents",
   "toc_cell": false,
   "toc_position": {},
   "toc_section_display": true,
   "toc_window_display": false
  },
  "varInspector": {
   "cols": {
    "lenName": 16,
    "lenType": 16,
    "lenVar": 40
   },
   "kernels_config": {
    "python": {
     "delete_cmd_postfix": "",
     "delete_cmd_prefix": "del ",
     "library": "var_list.py",
     "varRefreshCmd": "print(var_dic_list())"
    },
    "r": {
     "delete_cmd_postfix": ") ",
     "delete_cmd_prefix": "rm(",
     "library": "var_list.r",
     "varRefreshCmd": "cat(var_dic_list()) "
    }
   },
   "types_to_exclude": [
    "module",
    "function",
    "builtin_function_or_method",
    "instance",
    "_Feature"
   ],
   "window_display": false
  },
  "vscode": {
   "interpreter": {
    "hash": "31f2aee4e71d21fbe5cf8b01ff0e069b9275f58929596ceb00d14d90e3e16cd6"
   }
  },
  "widgets": {
   "application/vnd.jupyter.widget-state+json": {
    "state": {},
    "version_major": 2,
    "version_minor": 0
   }
  }
 },
 "nbformat": 4,
 "nbformat_minor": 5
}
