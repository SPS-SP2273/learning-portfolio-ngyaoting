{
 "cells": [
  {
   "cell_type": "markdown",
   "id": "123456",
   "metadata": {},
   "source": [
    "<div style=\"text-align:left;font-size:2em\"><span style=\"font-weight:bolder;font-size:1.25em\">SP2273 | Learning Portfolio</span><br><br><span style=\"font-weight:bold;color:darkred\">Functions (Good) Exercises</span></div>"
   ]
  },
  {
   "cell_type": "markdown",
   "id": "c6f62e0e",
   "metadata": {},
   "source": [
    "**Exercise 1: Convert Celsius to Fahrenheit or Kelvin**"
   ]
  },
  {
   "cell_type": "code",
   "execution_count": 17,
   "id": "12f4d6be",
   "metadata": {},
   "outputs": [],
   "source": [
    "def convert_celsius(temperature_celsius, target_scale = \"Fahrenheit\"):\n",
    "    if target_scale == \"Fahrenheit\":\n",
    "        temperature_fahrenheit = (temperature_celsius * 9/5) + 32\n",
    "        return temperature_fahrenheit\n",
    "    elif target_scale == \"Kelvin\":\n",
    "        temperature_kelvin = temperature_celsius + 273.15\n",
    "        return temperature_kelvin\n"
   ]
  },
  {
   "cell_type": "code",
   "execution_count": 18,
   "id": "89b3eacd",
   "metadata": {},
   "outputs": [
    {
     "name": "stdout",
     "output_type": "stream",
     "text": [
      "318.15\n"
     ]
    }
   ],
   "source": [
    "print(convert_celsius(45, \"Kelvin\"))"
   ]
  },
  {
   "cell_type": "markdown",
   "id": "657d02b5",
   "metadata": {},
   "source": [
    "**Exercise 2: Convert Fahrenheit to Celsius or Kelvin**"
   ]
  },
  {
   "cell_type": "code",
   "execution_count": 14,
   "id": "94b5a89a",
   "metadata": {},
   "outputs": [],
   "source": [
    "def convert_fahrenheit(temperature_fahrenheit, target_scale = \"Celsius\"):\n",
    "    temperature_celsius = (temperature_fahrenheit - 32) * 5/9\n",
    "    if target_scale == \"Celsius\":\n",
    "        return temperature_celsius\n",
    "    elif target_scale == \"Kelvin\":\n",
    "        temperature_kelvin = temperature_celsius + 273.15\n",
    "        return temperature_kelvin\n",
    "        "
   ]
  },
  {
   "cell_type": "code",
   "execution_count": 16,
   "id": "c37a2e7f",
   "metadata": {},
   "outputs": [
    {
     "data": {
      "text/plain": [
       "273.15"
      ]
     },
     "execution_count": 16,
     "metadata": {},
     "output_type": "execute_result"
    }
   ],
   "source": [
    "convert_fahrenheit(32, \"Kelvin\")"
   ]
  },
  {
   "cell_type": "markdown",
   "id": "06d114e1",
   "metadata": {},
   "source": [
    "**Exercise 3: General Temperature Conversion**"
   ]
  },
  {
   "cell_type": "code",
   "execution_count": 21,
   "id": "d57e601c",
   "metadata": {},
   "outputs": [],
   "source": [
    "def convert_kelvin(temperature_kelvin, target_scale = \"Celsius\"):\n",
    "    temperature_celsius = temperature_kelvin - 273.15\n",
    "    if target_scale == \"Celsius\":\n",
    "        return temperature_celsius\n",
    "    elif target_scale == \"Fahrenheit\":\n",
    "        temperature_fahrenheit = (temperature_celsius * 9/5) + 32\n",
    "        return temperature_fahrenheit"
   ]
  },
  {
   "cell_type": "code",
   "execution_count": 23,
   "id": "0451fdac",
   "metadata": {},
   "outputs": [
    {
     "data": {
      "text/plain": [
       "-459.66999999999996"
      ]
     },
     "execution_count": 23,
     "metadata": {},
     "output_type": "execute_result"
    }
   ],
   "source": [
    "convert_kelvin(0, \"Fahrenheit\")"
   ]
  },
  {
   "cell_type": "code",
   "execution_count": 26,
   "id": "83b2a6f0",
   "metadata": {},
   "outputs": [],
   "source": [
    "def convert_temperature(temperature, source_scale, target_scale):\n",
    "    if source_scale == \"Celsius\":\n",
    "        return convert_celsius(temperature, target_scale)\n",
    "    elif source_scale == \"Fahrenheit\":\n",
    "        return convert_fahrenheit(temperature, target_scale)\n",
    "    elif source_scale == \"Kelvin\":\n",
    "        return convert_kelvin(temperature, target_scale)"
   ]
  },
  {
   "cell_type": "code",
   "execution_count": 32,
   "id": "998811e4",
   "metadata": {},
   "outputs": [
    {
     "data": {
      "text/plain": [
       "-459.66999999999996"
      ]
     },
     "execution_count": 32,
     "metadata": {},
     "output_type": "execute_result"
    }
   ],
   "source": [
    "convert_temperature(0, \"Kelvin\", \"Fahrenheit\")"
   ]
  },
  {
   "cell_type": "code",
   "execution_count": null,
   "id": "8be5e02d",
   "metadata": {},
   "outputs": [],
   "source": []
  }
 ],
 "metadata": {
  "kernelspec": {
   "display_name": "Python 3 (ipykernel)",
   "language": "python",
   "name": "python3"
  },
  "language_info": {
   "codemirror_mode": {
    "name": "ipython",
    "version": 3
   },
   "file_extension": ".py",
   "mimetype": "text/x-python",
   "name": "python",
   "nbconvert_exporter": "python",
   "pygments_lexer": "ipython3",
   "version": "3.12.1"
  },
  "toc": {
   "base_numbering": 1,
   "nav_menu": {},
   "number_sections": true,
   "sideBar": true,
   "skip_h1_title": false,
   "title_cell": "Table of Contents",
   "title_sidebar": "Contents",
   "toc_cell": false,
   "toc_position": {},
   "toc_section_display": true,
   "toc_window_display": false
  },
  "varInspector": {
   "cols": {
    "lenName": 16,
    "lenType": 16,
    "lenVar": 40
   },
   "kernels_config": {
    "python": {
     "delete_cmd_postfix": "",
     "delete_cmd_prefix": "del ",
     "library": "var_list.py",
     "varRefreshCmd": "print(var_dic_list())"
    },
    "r": {
     "delete_cmd_postfix": ") ",
     "delete_cmd_prefix": "rm(",
     "library": "var_list.r",
     "varRefreshCmd": "cat(var_dic_list()) "
    }
   },
   "types_to_exclude": [
    "module",
    "function",
    "builtin_function_or_method",
    "instance",
    "_Feature"
   ],
   "window_display": false
  },
  "vscode": {
   "interpreter": {
    "hash": "31f2aee4e71d21fbe5cf8b01ff0e069b9275f58929596ceb00d14d90e3e16cd6"
   }
  },
  "widgets": {
   "application/vnd.jupyter.widget-state+json": {
    "state": {},
    "version_major": 2,
    "version_minor": 0
   }
  }
 },
 "nbformat": 4,
 "nbformat_minor": 5
}
