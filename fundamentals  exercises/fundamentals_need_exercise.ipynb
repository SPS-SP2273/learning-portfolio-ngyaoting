{
 "cells": [
  {
   "cell_type": "markdown",
   "id": "6c197391-fd41-4c13-a6ed-dc4cfe595c59",
   "metadata": {},
   "source": [
    "**Exercise 1**"
   ]
  },
  {
   "cell_type": "markdown",
   "id": "19f3ea57-15d3-4722-b787-1e2c43aa19e2",
   "metadata": {},
   "source": [
    "- Variables and data types (integers, floats, strings, booleans)\n",
    "- Arithmetic operations (+, -, *, /, %)\n",
    "- Comparison operators (==, !=, <, >, <=, >=)\n",
    "- Conditional statements (if, elif, else)\n",
    "- Loops (for, while)\n",
    "- Lists and list operations (appending, indexing, slicing)\n",
    "- Dictionaries and dictionary operations (keys, values, items)\n",
    "- Functions and function definition\n",
    "- *Modules and importing modules*\n",
    "- *Error handling (try, except)*\n",
    "- *List comprehensions*\n",
    "- *String manipulation methods (split, join, etc.)*\n",
    "- *Sets and set operations*\n",
    "- *Tuples and tuple operations*\n",
    "- *File handling (open, read, write)*\n",
    "- *Boolean operators (and, or, not)*\n",
    "- *Mutable vs. immutable data types*\n"
   ]
  },
  {
   "cell_type": "markdown",
   "id": "4293e6b4-5134-4c21-adf0-e7e6c10b7980",
   "metadata": {},
   "source": [
    "**Exercise 2**"
   ]
  },
  {
   "cell_type": "code",
   "execution_count": 1,
   "id": "52553e9c-c18d-41b1-932c-e1cfc577590f",
   "metadata": {},
   "outputs": [
    {
     "name": "stdout",
     "output_type": "stream",
     "text": [
      "3, 4, 5.0\n"
     ]
    }
   ],
   "source": [
    "import numpy\n",
    "\n",
    "x = 3\n",
    "y = 4\n",
    "z = numpy.sqrt(x**2 + y**2)\n",
    "print(f\"{x}, {y}, {z}\")"
   ]
  },
  {
   "cell_type": "markdown",
   "id": "dce4cbc4-518f-44db-a2e9-ff9bca827798",
   "metadata": {},
   "source": [
    "**Exercise 3**"
   ]
  },
  {
   "cell_type": "markdown",
   "id": "f9d48323-0f5d-4462-b233-6a2df2fe72a4",
   "metadata": {},
   "source": [
    "| #   | Term          | Description                                               |\n",
    "| --- | ------------- | --------------------------------------------------------- |\n",
    "| 1   | Function      | A reusable block of code that performs a specific task.   |\n",
    "| 2   | Arguments     | Values passed to a function to customize its behavior.    |\n",
    "| 3   | Comments      | Text in the code that is ignored by the interpreter.      |\n",
    "| 4   | Indentations  | Spaces or tabs used to define block structures in code.   |\n",
    "| 5   | Packages      | Collections of modules that extend Python's functionality.|\n",
    "| 6   | .             | Dot operator used for accessing attributes and methods.   |\n",
    "| 7   | :             | Colon used in various Python constructs like loops, functions, and dictionaries. |\n",
    "| 8   | []            | Square brackets used to define lists or access elements in a list. |\n",
    "| 9   | [[[]]]        | Nested square brackets indicating multi-dimensional lists or lists within lists. |\n",
    "| 10  | {}            | Curly braces used to define dictionaries or sets in Python. |\n"
   ]
  },
  {
   "cell_type": "markdown",
   "id": "d2ba6028-8726-40fa-b389-ad7a5d927ea1",
   "metadata": {},
   "source": [
    "**Exercise 4**"
   ]
  },
  {
   "cell_type": "code",
   "execution_count": 2,
   "id": "20b56ee8-38fb-4913-93a0-198444b4a0a1",
   "metadata": {},
   "outputs": [
    {
     "data": {
      "text/plain": [
       "2.5"
      ]
     },
     "execution_count": 2,
     "metadata": {},
     "output_type": "execute_result"
    }
   ],
   "source": [
    "5/2 #Divides by 2"
   ]
  },
  {
   "cell_type": "code",
   "execution_count": 6,
   "id": "46bddfa8-5161-4121-81f3-789b5e15cd12",
   "metadata": {},
   "outputs": [
    {
     "data": {
      "text/plain": [
       "2"
      ]
     },
     "execution_count": 6,
     "metadata": {},
     "output_type": "execute_result"
    }
   ],
   "source": [
    "5//2 #Returns the result of division while discarding any remainder"
   ]
  },
  {
   "cell_type": "code",
   "execution_count": 5,
   "id": "4f54eb27-83af-482c-9f19-f924eec06699",
   "metadata": {},
   "outputs": [
    {
     "data": {
      "text/plain": [
       "1"
      ]
     },
     "execution_count": 5,
     "metadata": {},
     "output_type": "execute_result"
    }
   ],
   "source": [
    "5%2 #Returns the remainder"
   ]
  },
  {
   "cell_type": "code",
   "execution_count": null,
   "id": "2b677991-2544-4f3e-b4aa-ce2900cdf134",
   "metadata": {},
   "outputs": [],
   "source": []
  }
 ],
 "metadata": {
  "kernelspec": {
   "display_name": "Python 3 (ipykernel)",
   "language": "python",
   "name": "python3"
  },
  "language_info": {
   "codemirror_mode": {
    "name": "ipython",
    "version": 3
   },
   "file_extension": ".py",
   "mimetype": "text/x-python",
   "name": "python",
   "nbconvert_exporter": "python",
   "pygments_lexer": "ipython3",
   "version": "3.12.1"
  },
  "toc": {
   "base_numbering": 1,
   "nav_menu": {},
   "number_sections": true,
   "sideBar": true,
   "skip_h1_title": false,
   "title_cell": "Table of Contents",
   "title_sidebar": "Contents",
   "toc_cell": false,
   "toc_position": {},
   "toc_section_display": true,
   "toc_window_display": false
  },
  "varInspector": {
   "cols": {
    "lenName": 16,
    "lenType": 16,
    "lenVar": 40
   },
   "kernels_config": {
    "python": {
     "delete_cmd_postfix": "",
     "delete_cmd_prefix": "del ",
     "library": "var_list.py",
     "varRefreshCmd": "print(var_dic_list())"
    },
    "r": {
     "delete_cmd_postfix": ") ",
     "delete_cmd_prefix": "rm(",
     "library": "var_list.r",
     "varRefreshCmd": "cat(var_dic_list()) "
    }
   },
   "types_to_exclude": [
    "module",
    "function",
    "builtin_function_or_method",
    "instance",
    "_Feature"
   ],
   "window_display": false
  },
  "widgets": {
   "application/vnd.jupyter.widget-state+json": {
    "state": {},
    "version_major": 2,
    "version_minor": 0
   }
  }
 },
 "nbformat": 4,
 "nbformat_minor": 5
}
